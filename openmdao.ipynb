{
 "cells": [
  {
   "cell_type": "markdown",
   "metadata": {},
   "source": [
    "##### https://openmdao.org/newdocs/versions/latest/basic_user_guide/multidisciplinary_optimization/sellar.html\n",
    "\n",
    "##### https://openmdao.org/newdocs/versions/latest/features/core_features/adding_desvars_cons_objs/main.html"
   ]
  },
  {
   "cell_type": "code",
   "execution_count": 4,
   "metadata": {},
   "outputs": [
    {
     "name": "stdout",
     "output_type": "stream",
     "text": [
      "Optimization terminated successfully    (Exit mode 0)\n",
      "            Current function value: -27.33333333333333\n",
      "            Iterations: 5\n",
      "            Function evaluations: 6\n",
      "            Gradient evaluations: 5\n",
      "Optimization Complete\n",
      "-----------------------------------\n"
     ]
    },
    {
     "name": "stderr",
     "output_type": "stream",
     "text": [
      "/Users/h1he2li3/opt/anaconda3/envs/openmdao2/lib/python3.11/site-packages/openmdao/utils/reports_system.py:302: OpenMDAOWarning:Report with name 'inputs' not found in reports registry.\n",
      "/Users/h1he2li3/opt/anaconda3/envs/openmdao2/lib/python3.11/site-packages/openmdao/utils/reports_system.py:302: OpenMDAOWarning:Report with name 'inputs' not found in reports registry.\n",
      "/Users/h1he2li3/opt/anaconda3/envs/openmdao2/lib/python3.11/site-packages/openmdao/utils/reports_system.py:302: OpenMDAOWarning:Report with name 'inputs' not found in reports registry.\n"
     ]
    }
   ],
   "source": [
    "import openmdao.api as om\n",
    "\n",
    "# build the model\n",
    "prob = om.Problem()\n",
    "\n",
    "prob.model.add_subsystem('paraboloid', om.ExecComp('f = (x-3)**2 + x*y + (y+4)**2 - 3'))\n",
    "\n",
    "# setup the optimization\n",
    "prob.driver = om.ScipyOptimizeDriver()\n",
    "prob.driver.options['optimizer'] = 'SLSQP'\n",
    "\n",
    "prob.model.add_design_var('paraboloid.x', lower=-50, upper=50)\n",
    "prob.model.add_design_var('paraboloid.y', lower=-50, upper=50)\n",
    "prob.model.add_objective('paraboloid.f')\n",
    "\n",
    "prob.setup()\n",
    "\n",
    "# Set initial values.\n",
    "prob.set_val('paraboloid.x', 3.0)\n",
    "prob.set_val('paraboloid.y', -4.0)\n",
    "\n",
    "# run the optimization\n",
    "prob.run_driver();"
   ]
  },
  {
   "attachments": {},
   "cell_type": "markdown",
   "metadata": {},
   "source": [
    "#### Computing y by solving for Eqn 1 [$cos(x \\cdot y) - z \\cdot y$]\n",
    "#### Computing z after computing for y [ $sin(y)$ ]\n",
    "\n",
    "##### x is `IndepVarComp`, y is `ImplicitComponent` and is computed with help of x and z, and z is `ExplicitComponent` which is computed with the help of computed y"
   ]
  },
  {
   "cell_type": "code",
   "execution_count": 5,
   "metadata": {},
   "outputs": [
    {
     "name": "stdout",
     "output_type": "stream",
     "text": [
      "[-15.]\n",
      "[-5.]\n"
     ]
    },
    {
     "name": "stderr",
     "output_type": "stream",
     "text": [
      "/Users/h1he2li3/opt/anaconda3/envs/openmdao2/lib/python3.11/site-packages/openmdao/utils/reports_system.py:302: OpenMDAOWarning:Report with name 'inputs' not found in reports registry.\n",
      "/Users/h1he2li3/opt/anaconda3/envs/openmdao2/lib/python3.11/site-packages/openmdao/utils/reports_system.py:302: OpenMDAOWarning:Report with name 'inputs' not found in reports registry.\n"
     ]
    }
   ],
   "source": [
    "import openmdao.api as om\n",
    "\n",
    "\n",
    "class Paraboloid(om.ExplicitComponent):\n",
    "    #Access ExplicitComponent class from openmdao.api.\n",
    "    #This ExplicitComponent has 3 methods: setup, setup_partials, compute.\n",
    "    \n",
    "    \"\"\"\n",
    "    This is an Explicit function\n",
    "    \n",
    "    Evaluates the equation f(x,y) = (x-3)^2 + xy + (y+4)^2 - 3.\n",
    "    \"\"\"\n",
    "\n",
    "    def setup(self):\n",
    "        #Define inputs and outputs in setup method under ExplicitComponent class.\n",
    "        self.add_input('x', val=0.0)\n",
    "        self.add_input('y', val=0.0)\n",
    "\n",
    "        self.add_output('f_xy', val=0.0)\n",
    "\n",
    "    def setup_partials(self): #What does this mean?\n",
    "        #Apparently, this means asking OpenMDAO to approximate,\n",
    "        #all partial (analytic) derivatives (derivative of O/P w.r.t. I/P).\n",
    "        #This makes it easier to optimize.\n",
    "        # Finite difference all partials.\n",
    "        self.declare_partials('*', '*', method='fd')\n",
    "\n",
    "    def compute(self, inputs, outputs):\n",
    "        \"\"\"\n",
    "        f(x,y) = (x-3)^2 + xy + (y+4)^2 - 3\n",
    "\n",
    "        Minimum at: x = 6.6667; y = -7.3333\n",
    "        \"\"\"\n",
    "        x = inputs['x']\n",
    "        y = inputs['y']\n",
    "\n",
    "        outputs['f_xy'] = (x - 3.0)**2 + x * y + (y + 4.0)**2 - 3.0\n",
    "\n",
    "\n",
    "if __name__ == \"__main__\":\n",
    "\n",
    "    model = om.Group()\n",
    "    #OpenMDAO models have a hierarchy of Group instances to organize components.\n",
    "    #Here, there's only only single root group with single component/instance of defined Paraboloid class.\n",
    "    model.add_subsystem('parab_comp', Paraboloid())\n",
    "\n",
    "    prob = om.Problem(model)\n",
    "    prob.setup()\n",
    "    #To get some initial work to get data structures in place for execution.\n",
    "\n",
    "    prob.set_val('parab_comp.x', 3.0)\n",
    "    prob.set_val('parab_comp.y', -4.0)\n",
    "\n",
    "    prob.run_model()\n",
    "    #To perform computation\n",
    "    print(prob['parab_comp.f_xy'])\n",
    "\n",
    "    prob.set_val('parab_comp.x', 5.0)\n",
    "    prob.set_val('parab_comp.y', -2.0)\n",
    "\n",
    "    prob.run_model()\n",
    "    #To perform computation\n",
    "    print(prob.get_val('parab_comp.f_xy'))"
   ]
  },
  {
   "attachments": {},
   "cell_type": "markdown",
   "metadata": {},
   "source": [
    "##### We’ll add that component to construct our model inside a Problem. You’ve already used Problem in the run script from the previous tutorial on the paraboloid analysis, but we’ll take a closer look now.\n",
    "\n",
    "##### All analyses and optimizations in OpenMDAO are executed with an instance of the Problem class. This class serves as a container for your model and the driver you’ve chosen, and provides methods for you to run the model and run the driver. It also provides a interface for setting and getting variable values. Every problem has a single driver associated with it; similarly, every problem has a single model in it."
   ]
  },
  {
   "cell_type": "code",
   "execution_count": 6,
   "metadata": {},
   "outputs": [
    {
     "name": "stdout",
     "output_type": "stream",
     "text": [
      "Optimization Complete\n",
      "-----------------------------------\n",
      "\n",
      "   Normal return from subroutine COBYLA\n",
      "\n",
      "   NFVALS =   54   F =-2.700000E+01    MAXCV = 0.000000E+00\n",
      "   X = 6.999999E+00  -6.999999E+00\n"
     ]
    },
    {
     "name": "stderr",
     "output_type": "stream",
     "text": [
      "/Users/h1he2li3/opt/anaconda3/envs/openmdao2/lib/python3.11/site-packages/openmdao/utils/reports_system.py:302: OpenMDAOWarning:Report with name 'inputs' not found in reports registry.\n",
      "/Users/h1he2li3/opt/anaconda3/envs/openmdao2/lib/python3.11/site-packages/openmdao/utils/reports_system.py:302: OpenMDAOWarning:Report with name 'inputs' not found in reports registry.\n",
      "/Users/h1he2li3/opt/anaconda3/envs/openmdao2/lib/python3.11/site-packages/openmdao/utils/reports_system.py:302: OpenMDAOWarning:Report with name 'inputs' not found in reports registry.\n"
     ]
    }
   ],
   "source": [
    "# We'll use the component that was defined in the last tutorial\n",
    "from openmdao.test_suite.components.paraboloid import Paraboloid\n",
    "\n",
    "import openmdao.api as om\n",
    "\n",
    "# build the model\n",
    "prob = om.Problem()\n",
    "prob.model.add_subsystem('parab', Paraboloid(), promotes_inputs=['x', 'y'])\n",
    "\n",
    "# define the component whose output will be constrained\n",
    "prob.model.add_subsystem('const', om.ExecComp('g = x + y'), promotes_inputs=['x', 'y'])\n",
    "\n",
    "# Design variables 'x' and 'y' span components, so we need to provide a common initial\n",
    "# value for them.\n",
    "prob.model.set_input_defaults('x', 3.0)\n",
    "prob.model.set_input_defaults('y', -4.0)\n",
    "\n",
    "# setup the optimization\n",
    "prob.driver = om.ScipyOptimizeDriver()\n",
    "prob.driver.options['optimizer'] = 'COBYLA'\n",
    "\n",
    "prob.model.add_design_var('x', lower=-50, upper=50)\n",
    "prob.model.add_design_var('y', lower=-50, upper=50)\n",
    "prob.model.add_objective('parab.f_xy')\n",
    "\n",
    "# to add the constraint to the model\n",
    "prob.model.add_constraint('const.g', lower=0, upper=10.)\n",
    "\n",
    "prob.setup()\n",
    "prob.run_driver();"
   ]
  },
  {
   "cell_type": "code",
   "execution_count": 7,
   "metadata": {},
   "outputs": [
    {
     "name": "stdout",
     "output_type": "stream",
     "text": [
      "[-27.]\n"
     ]
    }
   ],
   "source": [
    "# minimum value\n",
    "print(prob.get_val('parab.f_xy'))"
   ]
  },
  {
   "cell_type": "code",
   "execution_count": 8,
   "metadata": {},
   "outputs": [
    {
     "name": "stdout",
     "output_type": "stream",
     "text": [
      "[6.99999912]\n",
      "[-6.99999912]\n"
     ]
    }
   ],
   "source": [
    "# location of the minimum\n",
    "print(prob.get_val('x'))\n",
    "print(prob.get_val('y'))"
   ]
  },
  {
   "cell_type": "code",
   "execution_count": null,
   "metadata": {},
   "outputs": [],
   "source": []
  }
 ],
 "metadata": {
  "kernelspec": {
   "display_name": "openmdao2",
   "language": "python",
   "name": "python3"
  },
  "language_info": {
   "codemirror_mode": {
    "name": "ipython",
    "version": 3
   },
   "file_extension": ".py",
   "mimetype": "text/x-python",
   "name": "python",
   "nbconvert_exporter": "python",
   "pygments_lexer": "ipython3",
   "version": "3.11.2"
  },
  "orig_nbformat": 4
 },
 "nbformat": 4,
 "nbformat_minor": 2
}
