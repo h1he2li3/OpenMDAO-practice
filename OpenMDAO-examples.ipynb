{
 "cells": [
  {
   "cell_type": "code",
   "execution_count": 1,
   "metadata": {},
   "outputs": [],
   "source": [
    "import scipy\n",
    "import openmdao.api as om\n",
    "\n",
    "\n",
    "class ActuatorDisc(om.ExplicitComponent):\n",
    "    \"\"\"Simple wind turbine model based on actuator disc theory\"\"\"\n",
    "\n",
    "    def setup(self):\n",
    "\n",
    "        # Inputs\n",
    "        self.add_input('a', 0.5, desc=\"Induced Velocity Factor\")\n",
    "        self.add_input('Area', 10.0, units=\"m**2\", desc=\"Rotor disc area\")\n",
    "        self.add_input('rho', 1.225, units=\"kg/m**3\", desc=\"air density\")\n",
    "        self.add_input('Vu', 10.0, units=\"m/s\", desc=\"Freestream air velocity, upstream of rotor\")\n",
    "\n",
    "        # Outputs\n",
    "        self.add_output('Vr', 0.0, units=\"m/s\",\n",
    "                        desc=\"Air velocity at rotor exit plane\")\n",
    "        self.add_output('Vd', 0.0, units=\"m/s\",\n",
    "                        desc=\"Slipstream air velocity, downstream of rotor\")\n",
    "        self.add_output('Ct', 0.0, desc=\"Thrust Coefficient\")\n",
    "        self.add_output('thrust', 0.0, units=\"N\",\n",
    "                        desc=\"Thrust produced by the rotor\")\n",
    "        self.add_output('Cp', 0.0, desc=\"Power Coefficient\")\n",
    "        self.add_output('power', 0.0, units=\"W\", desc=\"Power produced by the rotor\")\n",
    "        \n",
    "        # Every output depends on `a`\n",
    "        self.declare_partials(of='*', wrt='a', method='cs')\n",
    "\n",
    "        # Other dependencies\n",
    "        self.declare_partials(of='Vr', wrt=['Vu'], method='cs')\n",
    "        self.declare_partials(of=['thrust', 'power'], wrt=['Area', 'rho', 'Vu'], method='cs')\n",
    "\n",
    "    def compute(self, inputs, outputs):\n",
    "        \"\"\" Considering the entire rotor as a single disc that extracts\n",
    "        velocity uniformly from the incoming flow and converts it to\n",
    "        power.\"\"\"\n",
    "\n",
    "        a = inputs['a']\n",
    "        Vu = inputs['Vu']\n",
    "\n",
    "        qA = .5 * inputs['rho'] * inputs['Area'] * Vu ** 2\n",
    "\n",
    "        outputs['Vd'] = Vd = Vu * (1 - 2 * a)\n",
    "        outputs['Vr'] = .5 * (Vu + Vd)\n",
    "\n",
    "        outputs['Ct'] = Ct = 4 * a * (1 - a)\n",
    "        outputs['thrust'] = Ct * qA\n",
    "\n",
    "        outputs['Cp'] = Cp = Ct * (1 - a)\n",
    "        outputs['power'] = Cp * qA * Vu"
   ]
  },
  {
   "cell_type": "code",
   "execution_count": 2,
   "metadata": {},
   "outputs": [],
   "source": [
    "prob = om.Problem()\n",
    "prob.model.add_subsystem('a_disk', ActuatorDisc(),\n",
    "                         promotes_inputs=['a', 'Area', 'rho', 'Vu']);"
   ]
  },
  {
   "cell_type": "code",
   "execution_count": 3,
   "metadata": {},
   "outputs": [],
   "source": [
    "prob.driver = om.ScipyOptimizeDriver()\n",
    "prob.driver.options['optimizer'] = 'SLSQP'\n",
    "\n",
    "prob.model.add_design_var('a', lower=0., upper=1.)\n",
    "\n",
    "# negative one so we maximize the objective\n",
    "prob.model.add_objective('a_disk.Cp', scaler=-1)"
   ]
  },
  {
   "cell_type": "code",
   "execution_count": 4,
   "metadata": {},
   "outputs": [],
   "source": [
    "prob.setup()\n",
    "\n",
    "prob.set_val('a', .5)\n",
    "prob.set_val('Area', 10.0, units='m**2')\n",
    "prob.set_val('rho', 1.225, units='kg/m**3')\n",
    "prob.set_val('Vu', 10.0, units='m/s')"
   ]
  },
  {
   "cell_type": "code",
   "execution_count": 5,
   "metadata": {},
   "outputs": [
    {
     "name": "stdout",
     "output_type": "stream",
     "text": [
      "Optimization terminated successfully    (Exit mode 0)\n",
      "            Current function value: -0.592592590665925\n",
      "            Iterations: 5\n",
      "            Function evaluations: 6\n",
      "            Gradient evaluations: 5\n",
      "Optimization Complete\n",
      "-----------------------------------\n"
     ]
    }
   ],
   "source": [
    "fail = prob.run_driver()"
   ]
  },
  {
   "cell_type": "code",
   "execution_count": 6,
   "metadata": {},
   "outputs": [
    {
     "name": "stdout",
     "output_type": "stream",
     "text": [
      "4 Input(s) in 'model'\n",
      "\n",
      "varname  val           units  \n",
      "-------  ------------  -------\n",
      "a_disk\n",
      "  a      [0.33335528]  None   \n",
      "  Area   [10.]         m**2   \n",
      "  rho    [1.225]       kg/m**3\n",
      "  Vu     [10.]         m/s    \n",
      "\n",
      "\n"
     ]
    },
    {
     "data": {
      "text/plain": [
       "[('a_disk.a', {'units': None, 'val': array([0.33335528])}),\n",
       " ('a_disk.Area', {'units': 'm**2', 'val': array([10.])}),\n",
       " ('a_disk.rho', {'units': 'kg/m**3', 'val': array([1.225])}),\n",
       " ('a_disk.Vu', {'units': 'm/s', 'val': array([10.])})]"
      ]
     },
     "execution_count": 6,
     "metadata": {},
     "output_type": "execute_result"
    }
   ],
   "source": [
    "prob.model.list_inputs(val=True, units=True)"
   ]
  },
  {
   "cell_type": "code",
   "execution_count": 7,
   "metadata": {},
   "outputs": [
    {
     "name": "stdout",
     "output_type": "stream",
     "text": [
      "6 Explicit Output(s) in 'model'\n",
      "\n",
      "varname   val              units\n",
      "--------  ---------------  -----\n",
      "a_disk\n",
      "  Vr      [6.6664472]      m/s  \n",
      "  Vd      [3.33289439]     m/s  \n",
      "  Ct      [0.88891815]     None \n",
      "  thrust  [544.46236677]   N    \n",
      "  Cp      [0.59259259]     None \n",
      "  power   [3629.62961783]  W    \n",
      "\n",
      "\n",
      "0 Implicit Output(s) in 'model'\n",
      "\n",
      "\n"
     ]
    },
    {
     "data": {
      "text/plain": [
       "[('a_disk.Vr', {'val': array([6.6664472]), 'units': 'm/s'}),\n",
       " ('a_disk.Vd', {'val': array([3.33289439]), 'units': 'm/s'}),\n",
       " ('a_disk.Ct', {'val': array([0.88891815]), 'units': None}),\n",
       " ('a_disk.thrust', {'val': array([544.46236677]), 'units': 'N'}),\n",
       " ('a_disk.Cp', {'val': array([0.59259259]), 'units': None}),\n",
       " ('a_disk.power', {'val': array([3629.62961783]), 'units': 'W'})]"
      ]
     },
     "execution_count": 7,
     "metadata": {},
     "output_type": "execute_result"
    }
   ],
   "source": [
    "prob.model.list_outputs(val=True, units=True)"
   ]
  },
  {
   "cell_type": "code",
   "execution_count": 8,
   "metadata": {},
   "outputs": [
    {
     "name": "stdout",
     "output_type": "stream",
     "text": [
      "[0.59259259]\n",
      "[0.33335528]\n"
     ]
    }
   ],
   "source": [
    "# Verify the correct outputs\n",
    "\n",
    "# minimum value\n",
    "print(prob.get_val('a_disk.Cp'))\n",
    "print(prob.get_val('a'))"
   ]
  },
  {
   "cell_type": "code",
   "execution_count": 10,
   "metadata": {},
   "outputs": [],
   "source": [
    "! openmdao n2 OpenMDAO-examples-wind-actuator-disc.py"
   ]
  },
  {
   "cell_type": "code",
   "execution_count": null,
   "metadata": {},
   "outputs": [],
   "source": []
  }
 ],
 "metadata": {
  "kernelspec": {
   "display_name": "dymos_rangemax",
   "language": "python",
   "name": "python3"
  },
  "language_info": {
   "codemirror_mode": {
    "name": "ipython",
    "version": 3
   },
   "file_extension": ".py",
   "mimetype": "text/x-python",
   "name": "python",
   "nbconvert_exporter": "python",
   "pygments_lexer": "ipython3",
   "version": "3.11.3"
  },
  "orig_nbformat": 4
 },
 "nbformat": 4,
 "nbformat_minor": 2
}
