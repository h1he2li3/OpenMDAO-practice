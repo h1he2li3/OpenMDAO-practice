{
 "cells": [
  {
   "cell_type": "code",
   "execution_count": 1,
   "metadata": {},
   "outputs": [],
   "source": [
    "import scipy\n",
    "import openmdao.api as om\n",
    "\n",
    "\n",
    "class ActuatorDisc(om.ExplicitComponent):\n",
    "    \"\"\"Simple wind turbine model based on actuator disc theory\"\"\"\n",
    "\n",
    "    def setup(self):\n",
    "\n",
    "        # Inputs\n",
    "        self.add_input('a', 0.5, desc=\"Induced Velocity Factor\")\n",
    "        self.add_input('Area', 10.0, units=\"m**2\", desc=\"Rotor disc area\")\n",
    "        self.add_input('rho', 1.225, units=\"kg/m**3\", desc=\"air density\")\n",
    "        self.add_input('Vu', 10.0, units=\"m/s\", desc=\"Freestream air velocity, upstream of rotor\")\n",
    "\n",
    "        # Outputs\n",
    "        self.add_output('Vr', 0.0, units=\"m/s\",\n",
    "                        desc=\"Air velocity at rotor exit plane\")\n",
    "        self.add_output('Vd', 0.0, units=\"m/s\",\n",
    "                        desc=\"Slipstream air velocity, downstream of rotor\")\n",
    "        self.add_output('Ct', 0.0, desc=\"Thrust Coefficient\")\n",
    "        self.add_output('thrust', 0.0, units=\"N\",\n",
    "                        desc=\"Thrust produced by the rotor\")\n",
    "        self.add_output('Cp', 0.0, desc=\"Power Coefficient\")\n",
    "        self.add_output('power', 0.0, units=\"W\", desc=\"Power produced by the rotor\")\n",
    "        \n",
    "        # Every output depends on `a`\n",
    "        self.declare_partials(of='*', wrt='a', method='cs')\n",
    "\n",
    "        # Other dependencies\n",
    "        self.declare_partials(of='Vr', wrt=['Vu'], method='cs')\n",
    "        self.declare_partials(of=['thrust', 'power'], wrt=['Area', 'rho', 'Vu'], method='cs')\n",
    "\n",
    "    def compute(self, inputs, outputs):\n",
    "        \"\"\" Considering the entire rotor as a single disc that extracts\n",
    "        velocity uniformly from the incoming flow and converts it to\n",
    "        power.\"\"\"\n",
    "\n",
    "        a = inputs['a']\n",
    "        Vu = inputs['Vu']\n",
    "\n",
    "        qA = .5 * inputs['rho'] * inputs['Area'] * Vu ** 2\n",
    "\n",
    "        outputs['Vd'] = Vd = Vu * (1 - 2 * a)\n",
    "        outputs['Vr'] = .5 * (Vu + Vd)\n",
    "\n",
    "        outputs['Ct'] = Ct = 4 * a * (1 - a)\n",
    "        outputs['thrust'] = Ct * qA\n",
    "\n",
    "        outputs['Cp'] = Cp = Ct * (1 - a)\n",
    "        outputs['power'] = Cp * qA * Vu"
   ]
  },
  {
   "cell_type": "code",
   "execution_count": 2,
   "metadata": {},
   "outputs": [],
   "source": [
    "prob = om.Problem()\n",
    "prob.model.add_subsystem('a_disk', ActuatorDisc(),\n",
    "                         promotes_inputs=['a', 'Area', 'rho', 'Vu']);"
   ]
  },
  {
   "cell_type": "code",
   "execution_count": 3,
   "metadata": {},
   "outputs": [],
   "source": [
    "prob.driver = om.ScipyOptimizeDriver()\n",
    "prob.driver.options['optimizer'] = 'SLSQP'\n",
    "\n",
    "prob.model.add_design_var('a', lower=0., upper=1.)\n",
    "\n",
    "# negative one so we maximize the objective\n",
    "prob.model.add_objective('a_disk.Cp', scaler=-1)"
   ]
  },
  {
   "cell_type": "code",
   "execution_count": 4,
   "metadata": {},
   "outputs": [],
   "source": [
    "prob.setup()\n",
    "\n",
    "prob.set_val('a', .5)\n",
    "prob.set_val('Area', 10.0, units='m**2')\n",
    "prob.set_val('rho', 1.225, units='kg/m**3')\n",
    "prob.set_val('Vu', 10.0, units='m/s')"
   ]
  },
  {
   "cell_type": "code",
   "execution_count": 5,
   "metadata": {},
   "outputs": [
    {
     "name": "stdout",
     "output_type": "stream",
     "text": [
      "Optimization terminated successfully    (Exit mode 0)\n",
      "            Current function value: -0.592592590665925\n",
      "            Iterations: 5\n",
      "            Function evaluations: 6\n",
      "            Gradient evaluations: 5\n",
      "Optimization Complete\n",
      "-----------------------------------\n"
     ]
    }
   ],
   "source": [
    "fail = prob.run_driver()"
   ]
  },
  {
   "cell_type": "code",
   "execution_count": 6,
   "metadata": {},
   "outputs": [
    {
     "name": "stdout",
     "output_type": "stream",
     "text": [
      "4 Input(s) in 'model'\n",
      "\n",
      "varname  val           units  \n",
      "-------  ------------  -------\n",
      "a_disk\n",
      "  a      [0.33335528]  None   \n",
      "  Area   [10.]         m**2   \n",
      "  rho    [1.225]       kg/m**3\n",
      "  Vu     [10.]         m/s    \n",
      "\n",
      "\n"
     ]
    },
    {
     "data": {
      "text/plain": [
       "[('a_disk.a', {'units': None, 'val': array([0.33335528])}),\n",
       " ('a_disk.Area', {'units': 'm**2', 'val': array([10.])}),\n",
       " ('a_disk.rho', {'units': 'kg/m**3', 'val': array([1.225])}),\n",
       " ('a_disk.Vu', {'units': 'm/s', 'val': array([10.])})]"
      ]
     },
     "execution_count": 6,
     "metadata": {},
     "output_type": "execute_result"
    }
   ],
   "source": [
    "prob.model.list_inputs(val=True, units=True)"
   ]
  },
  {
   "cell_type": "code",
   "execution_count": 7,
   "metadata": {},
   "outputs": [
    {
     "name": "stdout",
     "output_type": "stream",
     "text": [
      "6 Explicit Output(s) in 'model'\n",
      "\n",
      "varname   val              units\n",
      "--------  ---------------  -----\n",
      "a_disk\n",
      "  Vr      [6.6664472]      m/s  \n",
      "  Vd      [3.33289439]     m/s  \n",
      "  Ct      [0.88891815]     None \n",
      "  thrust  [544.46236677]   N    \n",
      "  Cp      [0.59259259]     None \n",
      "  power   [3629.62961783]  W    \n",
      "\n",
      "\n",
      "0 Implicit Output(s) in 'model'\n",
      "\n",
      "\n"
     ]
    },
    {
     "data": {
      "text/plain": [
       "[('a_disk.Vr', {'units': 'm/s', 'val': array([6.6664472])}),\n",
       " ('a_disk.Vd', {'units': 'm/s', 'val': array([3.33289439])}),\n",
       " ('a_disk.Ct', {'units': None, 'val': array([0.88891815])}),\n",
       " ('a_disk.thrust', {'units': 'N', 'val': array([544.46236677])}),\n",
       " ('a_disk.Cp', {'units': None, 'val': array([0.59259259])}),\n",
       " ('a_disk.power', {'units': 'W', 'val': array([3629.62961783])})]"
      ]
     },
     "execution_count": 7,
     "metadata": {},
     "output_type": "execute_result"
    }
   ],
   "source": [
    "prob.model.list_outputs(val=True, units=True)"
   ]
  },
  {
   "cell_type": "code",
   "execution_count": 8,
   "metadata": {},
   "outputs": [
    {
     "name": "stdout",
     "output_type": "stream",
     "text": [
      "[0.59259259]\n",
      "[0.33335528]\n"
     ]
    }
   ],
   "source": [
    "# Verify the correct outputs\n",
    "\n",
    "# minimum value\n",
    "print(prob.get_val('a_disk.Cp'))\n",
    "print(prob.get_val('a'))"
   ]
  },
  {
   "cell_type": "code",
   "execution_count": 2,
   "metadata": {},
   "outputs": [],
   "source": [
    "! openmdao n2 OpenMDAO-examples-wind-actuator-disc.py"
   ]
  },
  {
   "cell_type": "code",
   "execution_count": 8,
   "metadata": {},
   "outputs": [
    {
     "name": "stdout",
     "output_type": "stream",
     "text": [
      "Traceback (most recent call last):\n",
      "  File \"/Users/h1he2li3/opt/anaconda3/envs/dymos_rangemax/bin/openmdao\", line 8, in <module>\n",
      "    sys.exit(openmdao_cmd())\n",
      "             ^^^^^^^^^^^^^^\n",
      "  File \"/Users/h1he2li3/opt/anaconda3/envs/dymos_rangemax/lib/python3.11/site-packages/openmdao/utils/om.py\", line 551, in openmdao_cmd\n",
      "    options.executor(options, user_args)\n",
      "  File \"/Users/h1he2li3/opt/anaconda3/envs/dymos_rangemax/lib/python3.11/site-packages/openmdao/visualization/n2_viewer/n2_viewer.py\", line 738, in _n2_cmd\n",
      "    _load_and_exec(options.file[0], user_args)\n",
      "  File \"/Users/h1he2li3/opt/anaconda3/envs/dymos_rangemax/lib/python3.11/site-packages/openmdao/utils/file_utils.py\", line 196, in _load_and_exec\n",
      "    exec(code, globals_dict)  # nosec: private, internal use only\n",
      "    ^^^^^^^^^^^^^^^^^^^^^^^^\n",
      "  File \"test2.py\", line 226, in <module>\n",
      "    prob.setup()\n",
      "  File \"/Users/h1he2li3/opt/anaconda3/envs/dymos_rangemax/lib/python3.11/site-packages/openmdao/core/problem.py\", line 958, in setup\n",
      "    self._check_collected_errors()\n",
      "  File \"/Users/h1he2li3/opt/anaconda3/envs/dymos_rangemax/lib/python3.11/site-packages/openmdao/utils/hooks.py\", line 131, in execute_hooks\n",
      "    ret = f(*args, **kwargs)\n",
      "          ^^^^^^^^^^^^^^^^^^\n",
      "  File \"/Users/h1he2li3/opt/anaconda3/envs/dymos_rangemax/lib/python3.11/site-packages/openmdao/core/problem.py\", line 585, in _check_collected_errors\n",
      "    raise exc_type('\\n'.join(final_msg)).with_traceback(tback)\n",
      "  File \"/Users/h1he2li3/opt/anaconda3/envs/dymos_rangemax/lib/python3.11/site-packages/openmdao/core/group.py\", line 1484, in _setup_global_connections\n",
      "    self._collect_error(msg)\n",
      "RuntimeError: \n",
      "Collected errors for problem 'openmdao':\n",
      "   <model> <class Group>: Attempted to connect from 'P_req_shaft' to 'propulsion.motor.P_req_shaft', but 'propulsion.motor.P_req_shaft' doesn't exist. Perhaps you meant to connect to one of the following inputs: ['propulsion.P_req_shaft'].\n"
     ]
    }
   ],
   "source": [
    "! openmdao n2 test2.py"
   ]
  },
  {
   "cell_type": "code",
   "execution_count": null,
   "metadata": {},
   "outputs": [],
   "source": []
  },
  {
   "cell_type": "code",
   "execution_count": null,
   "metadata": {},
   "outputs": [],
   "source": []
  }
 ],
 "metadata": {
  "kernelspec": {
   "display_name": "dymos_rangemax",
   "language": "python",
   "name": "python3"
  },
  "language_info": {
   "codemirror_mode": {
    "name": "ipython",
    "version": 3
   },
   "file_extension": ".py",
   "mimetype": "text/x-python",
   "name": "python",
   "nbconvert_exporter": "python",
   "pygments_lexer": "ipython3",
   "version": "3.11.3"
  },
  "orig_nbformat": 4
 },
 "nbformat": 4,
 "nbformat_minor": 2
}
