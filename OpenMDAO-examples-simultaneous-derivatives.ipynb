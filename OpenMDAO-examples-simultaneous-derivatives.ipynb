{
 "cells": [
  {
   "cell_type": "code",
   "execution_count": 4,
   "metadata": {},
   "outputs": [
    {
     "name": "stdout",
     "output_type": "stream",
     "text": [
      "[0.         0.08726646 0.17453293 0.26179939 0.34906585 0.43633231\n",
      " 0.52359878 0.61086524 0.6981317  0.78539816]\n"
     ]
    }
   ],
   "source": [
    "import numpy as np\n",
    "thetas = np.linspace(0, np.pi/4, 10)\n",
    "print(thetas)"
   ]
  },
  {
   "cell_type": "code",
   "execution_count": 8,
   "metadata": {},
   "outputs": [
    {
     "name": "stdout",
     "output_type": "stream",
     "text": [
      "[0 1 2 3 4 5 6 7 8 9]\n",
      "[1 3 5 7 9]\n",
      "[0 2 4 6 8]\n"
     ]
    }
   ],
   "source": [
    "IND = np.arange(10, dtype=int)\n",
    "ODD_IND = IND[1::2]  # all odd indices\n",
    "EVEN_IND = IND[0::2]  # all even indices\n",
    "\n",
    "\n",
    "print(IND)\n",
    "print(ODD_IND)\n",
    "print(EVEN_IND)"
   ]
  },
  {
   "cell_type": "code",
   "execution_count": 10,
   "metadata": {},
   "outputs": [
    {
     "name": "stdout",
     "output_type": "stream",
     "text": [
      "[1. 1. 1. 1. 1. 1. 1. 1. 1. 1.]\n"
     ]
    }
   ],
   "source": [
    "a=np.ones(10)\n",
    "print(a)"
   ]
  },
  {
   "cell_type": "code",
   "execution_count": null,
   "metadata": {},
   "outputs": [],
   "source": []
  },
  {
   "cell_type": "code",
   "execution_count": 1,
   "metadata": {},
   "outputs": [
    {
     "name": "stdout",
     "output_type": "stream",
     "text": [
      "Full total jacobian was computed 3 times, taking 0.014251 seconds.\n",
      "Total jacobian shape: (22, 21) \n",
      "\n",
      "\n",
      "Jacobian shape: (22, 21)  (13.42% nonzero)\n",
      "FWD solves: 5   REV solves: 0\n",
      "Total colors vs. total size: 5 vs 21  (76.2% improvement)\n",
      "\n",
      "Sparsity computed using tolerance: 1e-25\n",
      "Time to compute sparsity: 0.014251 sec.\n",
      "Time to compute coloring: 0.004912 sec.\n",
      "Memory to compute coloring: 0.132812 MB.\n",
      "[3.14159265]\n"
     ]
    }
   ],
   "source": [
    "import numpy as np\n",
    "import openmdao.api as om\n",
    "\n",
    "SIZE = 10\n",
    "\n",
    "p = om.Problem()\n",
    "\n",
    "p.model.add_subsystem('arctan_yox', om.ExecComp('g=arctan(y/x)', has_diag_partials=True,\n",
    "                                                g=np.ones(SIZE), x=np.ones(SIZE), y=np.ones(SIZE)),\n",
    "                      promotes_inputs=['x', 'y'])\n",
    " \n",
    "p.model.add_subsystem('circle', om.ExecComp('area=pi*r**2'), promotes_inputs=['r'])\n",
    "\n",
    "p.model.add_subsystem('r_con', om.ExecComp('g=x**2 + y**2 - r', has_diag_partials=True,\n",
    "                                           g=np.ones(SIZE), x=np.ones(SIZE), y=np.ones(SIZE)),\n",
    "                      promotes_inputs=['r', 'x', 'y'])\n",
    "\n",
    "thetas = np.linspace(0, np.pi/4, SIZE)\n",
    "\n",
    "# 'x' here means angle. 'g' from arctan_yox is connected to 'x' here.\n",
    "# 'g' calculated in this subsystem is the difference between calculated and target angles ('thetas')\n",
    "p.model.add_subsystem('theta_con', om.ExecComp('g = x - theta', has_diag_partials=True,\n",
    "                                               g=np.ones(SIZE), x=np.ones(SIZE),\n",
    "                                               theta=thetas))\n",
    "p.model.add_subsystem('delta_theta_con', om.ExecComp('g = even - odd', has_diag_partials=True,\n",
    "                                                     g=np.ones(SIZE//2), even=np.ones(SIZE//2),\n",
    "                                                     odd=np.ones(SIZE//2)))\n",
    "\n",
    "p.model.add_subsystem('l_conx', om.ExecComp('g=x-1', has_diag_partials=True, g=np.ones(SIZE), x=np.ones(SIZE)),\n",
    "                      promotes_inputs=['x'])\n",
    "\n",
    "IND = np.arange(SIZE, dtype=int)\n",
    "ODD_IND = IND[1::2]  # all odd indices\n",
    "EVEN_IND = IND[0::2]  # all even indices\n",
    "\n",
    "p.model.connect('arctan_yox.g', 'theta_con.x')\n",
    "p.model.connect('arctan_yox.g', 'delta_theta_con.even', src_indices=EVEN_IND)\n",
    "p.model.connect('arctan_yox.g', 'delta_theta_con.odd', src_indices=ODD_IND)\n",
    "\n",
    "p.driver = om.ScipyOptimizeDriver()\n",
    "p.driver.options['optimizer'] = 'SLSQP'\n",
    "p.driver.options['disp'] = False\n",
    "\n",
    "# set up dynamic total coloring here\n",
    "p.driver.declare_coloring()\n",
    "\n",
    "p.model.add_design_var('x')\n",
    "p.model.add_design_var('y')\n",
    "p.model.add_design_var('r', lower=.5, upper=10)\n",
    "\n",
    "# nonlinear constraints\n",
    "p.model.add_constraint('r_con.g', equals=0)\n",
    "\n",
    "p.model.add_constraint('theta_con.g', lower=-1e-5, upper=1e-5, indices=EVEN_IND)\n",
    "p.model.add_constraint('delta_theta_con.g', lower=-1e-5, upper=1e-5)\n",
    "\n",
    "# this constrains x[0] to be 1 (see definition of l_conx)\n",
    "p.model.add_constraint('l_conx.g', equals=0, linear=False, indices=[0,])\n",
    "\n",
    "# linear constraint\n",
    "p.model.add_constraint('y', equals=0, indices=[0,], linear=True)\n",
    "\n",
    "p.model.add_objective('circle.area', ref=-1)\n",
    "\n",
    "p.setup(mode='fwd')\n",
    "\n",
    "# the following were randomly generated using np.random.random(10)*2-1 to randomly\n",
    "# disperse them within a unit circle centered at the origin.\n",
    "p.set_val('x', np.array([ 0.55994437, -0.95923447,  0.21798656, -0.02158783,  0.62183717,\n",
    "                          0.04007379,  0.46044942, -0.10129622,  0.27720413, -0.37107886]))\n",
    "p.set_val('y', np.array([ 0.52577864,  0.30894559,  0.8420792 ,  0.35039912, -0.67290778,\n",
    "                         -0.86236787, -0.97500023,  0.47739414,  0.51174103,  0.10052582]))\n",
    "p.set_val('r', .7)\n",
    "\n",
    "p.run_driver()\n",
    "\n",
    "print(p['circle.area'])"
   ]
  },
  {
   "cell_type": "code",
   "execution_count": 2,
   "metadata": {},
   "outputs": [],
   "source": [
    "! openmdao n2 OpenMDAO-examples-simultaneous-derivatives.py"
   ]
  },
  {
   "cell_type": "code",
   "execution_count": null,
   "metadata": {},
   "outputs": [],
   "source": []
  }
 ],
 "metadata": {
  "kernelspec": {
   "display_name": "dymos_rangemax",
   "language": "python",
   "name": "python3"
  },
  "language_info": {
   "codemirror_mode": {
    "name": "ipython",
    "version": 3
   },
   "file_extension": ".py",
   "mimetype": "text/x-python",
   "name": "python",
   "nbconvert_exporter": "python",
   "pygments_lexer": "ipython3",
   "version": "3.11.3"
  },
  "orig_nbformat": 4
 },
 "nbformat": 4,
 "nbformat_minor": 2
}
